{
 "cells": [
  {
   "cell_type": "code",
   "execution_count": 25,
   "metadata": {},
   "outputs": [
    {
     "data": {
      "image/png": "[encoded data removed]",
      "text/plain": [
       "<matplotlib.figure.Figure at 0x2073b92de80>"
      ]
     },
     "metadata": {},
     "output_type": "display_data"
    }
   ],
   "source": [
    "import os\n",
    "os.chdir('D://dataset')\n",
    "from sklearn.datasets import load_svmlight_file\n",
    "from sklearn.model_selection import train_test_split\n",
    "import matplotlib.pyplot as plt \n",
    "import numpy as np\n",
    "\n",
    "# 加载数据中的特征和标签\n",
    "X, y = load_svmlight_file('housing_scale.txt')\n",
    "\n",
    "# 分割测试集，验证集\n",
    "X_train, X_test, y_train, y_test = train_test_split(X, y, test_size=0.2, random_state=42)\n",
    "\n",
    "# 正态分布初始化参数\n",
    "w = np.random.normal(size = (X.shape[1]))\n",
    "b = np.random.normal(size = (1))\n",
    "\n",
    "#其它参数初始化\n",
    "y_ = np.zeros(1)\n",
    "loss = np.zeros(1)\n",
    "learning_rate = 0.002\n",
    "epoch = 1000\n",
    "\n",
    "# 记录训练集的loss随迭代次数的值\n",
    "losses = []\n",
    "\n",
    "# 记录验证集的loss随迭代次数的值\n",
    "val_losses = []\n",
    "\n",
    "# 计算loss\n",
    "def validation(X_test, y_test, w, b):\n",
    "    loss = 0\n",
    "    for i in range(X_test.shape[0]):\n",
    "        y_ = np.dot(X_test[i].data, w) + b\n",
    "        loss += (y_test[i] - y_) * (y_test[i] - y_)* 0.5\n",
    "    return loss/X_test.shape[0]\n",
    "\n",
    "for num in range(epoch):\n",
    "    # loss_function 对w，b的偏导\n",
    "    G_w = 0\n",
    "    G_b = 0\n",
    "    \n",
    "    # sigma求和\n",
    "    for i in range(X_train.shape[0]):\n",
    "        y_ = np.dot(X_train[i].data, w) + b\n",
    "        loss += 1/2 * (y_train[i] - y_) * (y_train[i] - y_)\n",
    "        G_w += (y_train[i] - y_) * (-X_train[i].data)\n",
    "        G_b += y_ - y_train[i]\n",
    "        \n",
    "    # 求偏导的平均数\n",
    "    loss /= X_train.shape[0]\n",
    "    G_w /= X_train.shape[0]\n",
    "    G_b /= X_train.shape[0]\n",
    "    \n",
    "    # 更新参数\n",
    "    w = w - learning_rate * G_w\n",
    "    b = b - learning_rate * G_b\n",
    "    \n",
    "    # 计算验证集loss\n",
    "    val_loss = validation(X_test, y_test, w, b)\n",
    "    \n",
    "    # 将loss加入列表\n",
    "    losses.append(loss[0])\n",
    "    val_losses.append(val_loss[0])\n",
    "    \n",
    "    \n",
    "#print(losses)#24.699624629666143\n",
    "#print(val_losses)#24.003760056234494\n",
    "    \n",
    "# loss随迭代次数的变化图\n",
    "plt.figure(figsize = (5, 5))\n",
    "plt.plot(range(epoch), losses, label = \"loss\", color = 'red')  \n",
    "plt.plot(range(epoch), val_losses, label = \"val_loss\", color = 'blue')  \n",
    "plt.xlabel(\"epochs\")  \n",
    "plt.ylabel('loss')  \n",
    "plt.legend()\n",
    "plt.grid(True, color = 'g')\n",
    "plt.title(\"Linear Regression and Gradient Descent\")\n",
    "plt.margins(0.05)\n",
    "plt.show()"
   ]
  }
 ],
 "metadata": {
  "kernelspec": {
   "display_name": "Python 3",
   "language": "python",
   "name": "python3"
  },
  "language_info": {
   "codemirror_mode": {
    "name": "ipython",
    "version": 3
   },
   "file_extension": ".py",
   "mimetype": "text/x-python",
   "name": "python",
   "nbconvert_exporter": "python",
   "pygments_lexer": "ipython3",
   "version": "3.6.3"
  }
 },
 "nbformat": 4,
 "nbformat_minor": 2
}
